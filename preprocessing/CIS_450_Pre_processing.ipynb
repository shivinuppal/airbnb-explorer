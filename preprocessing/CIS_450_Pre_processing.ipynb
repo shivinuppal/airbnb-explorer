{
  "nbformat": 4,
  "nbformat_minor": 0,
  "metadata": {
    "colab": {
      "name": "CIS 450 Pre-processing",
      "provenance": []
    },
    "kernelspec": {
      "name": "python3",
      "display_name": "Python 3"
    }
  },
  "cells": [
    {
      "cell_type": "code",
      "metadata": {
        "id": "AWKrX0TYas7o"
      },
      "source": [
        "import pandas as pd\n",
        "import numpy as np\n",
        "import os"
      ],
      "execution_count": null,
      "outputs": []
    },
    {
      "cell_type": "code",
      "metadata": {
        "id": "YFzooRnTcQtp",
        "colab": {
          "base_uri": "https://localhost:8080/"
        },
        "outputId": "0b5fa98f-0c73-41a6-9cc0-e0905747702a"
      },
      "source": [
        "from google.colab import drive\n",
        "drive.mount('/content/drive')"
      ],
      "execution_count": null,
      "outputs": [
        {
          "output_type": "stream",
          "text": [
            "Mounted at /content/drive\n"
          ],
          "name": "stdout"
        }
      ]
    },
    {
      "cell_type": "code",
      "metadata": {
        "id": "13fWL9jbbaG-"
      },
      "source": [
        "CIS450_FOLDER=os.path.join('/content/drive', 'My Drive', 'CIS_450_Final')\n",
        "calendar_df = pd.read_csv('/content/drive/My Drive/CIS_450_Final/calendar.csv')\n",
        "listings_df = pd.read_csv('/content/drive/My Drive/CIS_450_Final/listings.csv')\n",
        "reviews_df = pd.read_csv('/content/drive/My Drive/CIS_450_Final/reviews.csv')"
      ],
      "execution_count": null,
      "outputs": []
    },
    {
      "cell_type": "code",
      "metadata": {
        "id": "2MiZvLDBcYtp"
      },
      "source": [
        "def to_boolean(col):\n",
        "  temp = [] \n",
        "  for i in col: \n",
        "    if i == 't':\n",
        "       temp.append(True)\n",
        "    elif i == 'f': \n",
        "      temp.append(False)\n",
        "    else:\n",
        "      temp.append(i)\n",
        "  return temp"
      ],
      "execution_count": null,
      "outputs": []
    },
    {
      "cell_type": "code",
      "metadata": {
        "id": "pA7Uc05Zcu37"
      },
      "source": [
        "calendar_df['available'] = to_boolean(calendar_df['available'])"
      ],
      "execution_count": null,
      "outputs": []
    },
    {
      "cell_type": "code",
      "metadata": {
        "id": "SARIW1UImYoe",
        "colab": {
          "base_uri": "https://localhost:8080/",
          "height": 419
        },
        "outputId": "9f8b6d28-86c0-4e81-c9df-3cff8e9f6a40"
      },
      "source": [
        "reviews_df"
      ],
      "execution_count": null,
      "outputs": [
        {
          "output_type": "execute_result",
          "data": {
            "text/html": [
              "<div>\n",
              "<style scoped>\n",
              "    .dataframe tbody tr th:only-of-type {\n",
              "        vertical-align: middle;\n",
              "    }\n",
              "\n",
              "    .dataframe tbody tr th {\n",
              "        vertical-align: top;\n",
              "    }\n",
              "\n",
              "    .dataframe thead th {\n",
              "        text-align: right;\n",
              "    }\n",
              "</style>\n",
              "<table border=\"1\" class=\"dataframe\">\n",
              "  <thead>\n",
              "    <tr style=\"text-align: right;\">\n",
              "      <th></th>\n",
              "      <th>listing_id</th>\n",
              "      <th>id</th>\n",
              "      <th>date</th>\n",
              "      <th>reviewer_id</th>\n",
              "      <th>reviewer_name</th>\n",
              "      <th>comments</th>\n",
              "    </tr>\n",
              "  </thead>\n",
              "  <tbody>\n",
              "    <tr>\n",
              "      <th>0</th>\n",
              "      <td>7202016</td>\n",
              "      <td>38917982</td>\n",
              "      <td>2015-07-19</td>\n",
              "      <td>28943674</td>\n",
              "      <td>Bianca</td>\n",
              "      <td>Cute and cozy place. Perfect location to every...</td>\n",
              "    </tr>\n",
              "    <tr>\n",
              "      <th>1</th>\n",
              "      <td>7202016</td>\n",
              "      <td>39087409</td>\n",
              "      <td>2015-07-20</td>\n",
              "      <td>32440555</td>\n",
              "      <td>Frank</td>\n",
              "      <td>Kelly has a great room in a very central locat...</td>\n",
              "    </tr>\n",
              "    <tr>\n",
              "      <th>2</th>\n",
              "      <td>7202016</td>\n",
              "      <td>39820030</td>\n",
              "      <td>2015-07-26</td>\n",
              "      <td>37722850</td>\n",
              "      <td>Ian</td>\n",
              "      <td>Very spacious apartment, and in a great neighb...</td>\n",
              "    </tr>\n",
              "    <tr>\n",
              "      <th>3</th>\n",
              "      <td>7202016</td>\n",
              "      <td>40813543</td>\n",
              "      <td>2015-08-02</td>\n",
              "      <td>33671805</td>\n",
              "      <td>George</td>\n",
              "      <td>Close to Seattle Center and all it has to offe...</td>\n",
              "    </tr>\n",
              "    <tr>\n",
              "      <th>4</th>\n",
              "      <td>7202016</td>\n",
              "      <td>41986501</td>\n",
              "      <td>2015-08-10</td>\n",
              "      <td>34959538</td>\n",
              "      <td>Ming</td>\n",
              "      <td>Kelly was a great host and very accommodating ...</td>\n",
              "    </tr>\n",
              "    <tr>\n",
              "      <th>...</th>\n",
              "      <td>...</td>\n",
              "      <td>...</td>\n",
              "      <td>...</td>\n",
              "      <td>...</td>\n",
              "      <td>...</td>\n",
              "      <td>...</td>\n",
              "    </tr>\n",
              "    <tr>\n",
              "      <th>84844</th>\n",
              "      <td>3624990</td>\n",
              "      <td>50436321</td>\n",
              "      <td>2015-10-12</td>\n",
              "      <td>37419458</td>\n",
              "      <td>Ryan</td>\n",
              "      <td>The description and pictures of the apartment ...</td>\n",
              "    </tr>\n",
              "    <tr>\n",
              "      <th>84845</th>\n",
              "      <td>3624990</td>\n",
              "      <td>51024875</td>\n",
              "      <td>2015-10-17</td>\n",
              "      <td>6933252</td>\n",
              "      <td>Linda</td>\n",
              "      <td>We had an excellent stay. It was clean and com...</td>\n",
              "    </tr>\n",
              "    <tr>\n",
              "      <th>84846</th>\n",
              "      <td>3624990</td>\n",
              "      <td>51511988</td>\n",
              "      <td>2015-10-20</td>\n",
              "      <td>19543701</td>\n",
              "      <td>Jaime</td>\n",
              "      <td>Gran ubicación, cerca de todo lo atractivo del...</td>\n",
              "    </tr>\n",
              "    <tr>\n",
              "      <th>84847</th>\n",
              "      <td>3624990</td>\n",
              "      <td>52814482</td>\n",
              "      <td>2015-11-02</td>\n",
              "      <td>24445024</td>\n",
              "      <td>Jørgen</td>\n",
              "      <td>Very good apartement, clean and well sized. Si...</td>\n",
              "    </tr>\n",
              "    <tr>\n",
              "      <th>84848</th>\n",
              "      <td>9727246</td>\n",
              "      <td>56429621</td>\n",
              "      <td>2015-12-13</td>\n",
              "      <td>30860360</td>\n",
              "      <td>Stephanie</td>\n",
              "      <td>Breanne was a great host. Check in was easy, s...</td>\n",
              "    </tr>\n",
              "  </tbody>\n",
              "</table>\n",
              "<p>84849 rows × 6 columns</p>\n",
              "</div>"
            ],
            "text/plain": [
              "       listing_id  ...                                           comments\n",
              "0         7202016  ...  Cute and cozy place. Perfect location to every...\n",
              "1         7202016  ...  Kelly has a great room in a very central locat...\n",
              "2         7202016  ...  Very spacious apartment, and in a great neighb...\n",
              "3         7202016  ...  Close to Seattle Center and all it has to offe...\n",
              "4         7202016  ...  Kelly was a great host and very accommodating ...\n",
              "...           ...  ...                                                ...\n",
              "84844     3624990  ...  The description and pictures of the apartment ...\n",
              "84845     3624990  ...  We had an excellent stay. It was clean and com...\n",
              "84846     3624990  ...  Gran ubicación, cerca de todo lo atractivo del...\n",
              "84847     3624990  ...  Very good apartement, clean and well sized. Si...\n",
              "84848     9727246  ...  Breanne was a great host. Check in was easy, s...\n",
              "\n",
              "[84849 rows x 6 columns]"
            ]
          },
          "metadata": {
            "tags": []
          },
          "execution_count": 9
        }
      ]
    },
    {
      "cell_type": "code",
      "metadata": {
        "id": "xjJnIdMkl2ks"
      },
      "source": [
        "calendar_df.dropna(inplace=True)\n",
        "\n",
        "reviews_df.dropna(inplace=True)"
      ],
      "execution_count": null,
      "outputs": []
    },
    {
      "cell_type": "code",
      "metadata": {
        "id": "7G4a0rTZeYNZ"
      },
      "source": [
        "list_of_cols = []\n",
        "for i in listings_df.columns:\n",
        "  if listings_df[i][0] == 't' or listings_df[i][0] == 'f':\n",
        "    list_of_cols.append(i)\n",
        "\n",
        "for i in list_of_cols: \n",
        "  listings_df[i] = to_boolean(listings_df[i])"
      ],
      "execution_count": null,
      "outputs": []
    },
    {
      "cell_type": "code",
      "metadata": {
        "id": "wEySaj0affv-"
      },
      "source": [
        "list_of_cols = []\n",
        "for i in reviews_df.columns:\n",
        "  if reviews_df[i][0] == 't' or reviews_df[i][0] == 'f':\n",
        "    list_of_cols.append(i)\n",
        "\n",
        "for i in list_of_cols: \n",
        "  reviews_df[i] = to_boolean(reviews_df[i])"
      ],
      "execution_count": null,
      "outputs": []
    },
    {
      "cell_type": "code",
      "metadata": {
        "id": "Qh4Nuh8jgETX",
        "colab": {
          "base_uri": "https://localhost:8080/"
        },
        "outputId": "c1269c23-1459-41e5-b563-a7fef232631a"
      },
      "source": [
        "host = listings_df[['host_id', 'host_url', 'host_since', 'host_about', 'host_response_time',\n",
        "       'host_response_rate', 'host_acceptance_rate', 'host_is_superhost', 'host_neighbourhood',\n",
        "       'host_total_listings_count','host_has_profile_pic', 'host_identity_verified', 'host_name', 'host_picture_url']]\n",
        "host.rename(columns={'host_id': 'id'}, inplace=True)"
      ],
      "execution_count": null,
      "outputs": [
        {
          "output_type": "stream",
          "text": [
            "/usr/local/lib/python3.6/dist-packages/pandas/core/frame.py:4308: SettingWithCopyWarning: \n",
            "A value is trying to be set on a copy of a slice from a DataFrame\n",
            "\n",
            "See the caveats in the documentation: https://pandas.pydata.org/pandas-docs/stable/user_guide/indexing.html#returning-a-view-versus-a-copy\n",
            "  errors=errors,\n"
          ],
          "name": "stderr"
        }
      ]
    },
    {
      "cell_type": "code",
      "metadata": {
        "id": "jclqy85ZhECh",
        "colab": {
          "base_uri": "https://localhost:8080/"
        },
        "outputId": "76ef6768-2484-4ffd-817c-f372e9844a0c"
      },
      "source": [
        "listings = listings_df[['id', 'host_id']]\n",
        "listings.rename(columns={'id': 'listing_id'}, inplace=True)"
      ],
      "execution_count": null,
      "outputs": [
        {
          "output_type": "stream",
          "text": [
            "/usr/local/lib/python3.6/dist-packages/pandas/core/frame.py:4308: SettingWithCopyWarning: \n",
            "A value is trying to be set on a copy of a slice from a DataFrame\n",
            "\n",
            "See the caveats in the documentation: https://pandas.pydata.org/pandas-docs/stable/user_guide/indexing.html#returning-a-view-versus-a-copy\n",
            "  errors=errors,\n"
          ],
          "name": "stderr"
        }
      ]
    },
    {
      "cell_type": "code",
      "metadata": {
        "id": "frYVv0yYhbXV",
        "colab": {
          "base_uri": "https://localhost:8080/"
        },
        "outputId": "e00f43b7-e69c-4b88-cd7e-5925065870cd"
      },
      "source": [
        "locations = listings_df[['id', 'street', 'neighbourhood_cleansed',\n",
        "       'neighbourhood_group_cleansed', 'zipcode', 'latitude', 'longitude', 'is_location_exact']]\n",
        "locations.rename(columns={'id': 'listing_id'}, inplace=True)"
      ],
      "execution_count": null,
      "outputs": [
        {
          "output_type": "stream",
          "text": [
            "/usr/local/lib/python3.6/dist-packages/pandas/core/frame.py:4308: SettingWithCopyWarning: \n",
            "A value is trying to be set on a copy of a slice from a DataFrame\n",
            "\n",
            "See the caveats in the documentation: https://pandas.pydata.org/pandas-docs/stable/user_guide/indexing.html#returning-a-view-versus-a-copy\n",
            "  errors=errors,\n"
          ],
          "name": "stderr"
        }
      ]
    },
    {
      "cell_type": "code",
      "metadata": {
        "id": "rs8bfHJzhs2d",
        "colab": {
          "base_uri": "https://localhost:8080/"
        },
        "outputId": "eb9f6200-9d58-429b-dd84-72f9f9754fae"
      },
      "source": [
        "descriptions = listings_df[['id', 'name', 'summary',\n",
        "       'space', 'description', 'neighborhood_overview',\n",
        "       'notes', 'transit']]\n",
        "descriptions.rename(columns={'id': 'listing_id'}, inplace=True)"
      ],
      "execution_count": null,
      "outputs": [
        {
          "output_type": "stream",
          "text": [
            "/usr/local/lib/python3.6/dist-packages/pandas/core/frame.py:4308: SettingWithCopyWarning: \n",
            "A value is trying to be set on a copy of a slice from a DataFrame\n",
            "\n",
            "See the caveats in the documentation: https://pandas.pydata.org/pandas-docs/stable/user_guide/indexing.html#returning-a-view-versus-a-copy\n",
            "  errors=errors,\n"
          ],
          "name": "stderr"
        }
      ]
    },
    {
      "cell_type": "code",
      "metadata": {
        "id": "oZ3qRgCih8nn",
        "colab": {
          "base_uri": "https://localhost:8080/"
        },
        "outputId": "d3920c7b-562b-4be1-e2dc-50498e45f0a6"
      },
      "source": [
        "url = listings_df[['id', 'listing_url', 'thumbnail_url', 'medium_url', 'picture_url',\n",
        "       'xl_picture_url']]\n",
        "url.rename(columns={'id': 'listing_id'}, inplace=True)"
      ],
      "execution_count": null,
      "outputs": [
        {
          "output_type": "stream",
          "text": [
            "/usr/local/lib/python3.6/dist-packages/pandas/core/frame.py:4308: SettingWithCopyWarning: \n",
            "A value is trying to be set on a copy of a slice from a DataFrame\n",
            "\n",
            "See the caveats in the documentation: https://pandas.pydata.org/pandas-docs/stable/user_guide/indexing.html#returning-a-view-versus-a-copy\n",
            "  errors=errors,\n"
          ],
          "name": "stderr"
        }
      ]
    },
    {
      "cell_type": "code",
      "metadata": {
        "id": "dvXtABOaiFyh",
        "colab": {
          "base_uri": "https://localhost:8080/"
        },
        "outputId": "3b471ed9-db20-4ba8-d4d9-5e9e0cda6b55"
      },
      "source": [
        "amenity = listings_df[['id', 'property_type', 'room_type', 'accommodates',\n",
        "       'bathrooms', 'bedrooms', 'beds', 'bed_type', 'amenities', 'square_feet', 'guests_included']]\n",
        "amenity.rename(columns={'id': 'listing_id'}, inplace=True)"
      ],
      "execution_count": null,
      "outputs": [
        {
          "output_type": "stream",
          "text": [
            "/usr/local/lib/python3.6/dist-packages/pandas/core/frame.py:4308: SettingWithCopyWarning: \n",
            "A value is trying to be set on a copy of a slice from a DataFrame\n",
            "\n",
            "See the caveats in the documentation: https://pandas.pydata.org/pandas-docs/stable/user_guide/indexing.html#returning-a-view-versus-a-copy\n",
            "  errors=errors,\n"
          ],
          "name": "stderr"
        }
      ]
    },
    {
      "cell_type": "code",
      "metadata": {
        "id": "sl8J9rBdiSX5"
      },
      "source": [
        "listing_policy = listings_df[['id', 'cancellation_policy', 'price', 'weekly_price', 'monthly_price', 'security_deposit',\n",
        "       'cleaning_fee', 'extra_people', 'minimum_nights','maximum_nights']]\n",
        "listing_policy.rename(columns={'id': 'listing_id'}, inplace=True)"
      ],
      "execution_count": null,
      "outputs": []
    },
    {
      "cell_type": "code",
      "metadata": {
        "id": "Iyx9r2Jglie-"
      },
      "source": [
        "sub_columns = ['price',\t'weekly_price',\t'monthly_price',\t'security_deposit',\t'cleaning_fee',\t'extra_people']\n",
        "for i in sub_columns: \n",
        "  listing_policy[i] = listing_policy[i].apply(lambda x: str(x))\n",
        "  listing_policy[i] = listing_policy[i].replace({'\\$': '', ',':''}, regex=True)\n",
        "  listing_policy[i] = listing_policy[i].apply(lambda x: float(x))"
      ],
      "execution_count": null,
      "outputs": []
    },
    {
      "cell_type": "code",
      "metadata": {
        "id": "sFZUntVuii7Z",
        "colab": {
          "base_uri": "https://localhost:8080/"
        },
        "outputId": "a84a1210-2ade-43be-dca8-b56b222fe3f3"
      },
      "source": [
        "listing_review = listings_df[['id', 'number_of_reviews', 'review_scores_rating',\n",
        "       'review_scores_accuracy', 'review_scores_cleanliness',\n",
        "       'review_scores_checkin', 'review_scores_communication',\n",
        "       'review_scores_location', 'review_scores_value', 'reviews_per_month']]\n",
        "listing_review.rename(columns={'id': 'listing_id'}, inplace=True)"
      ],
      "execution_count": null,
      "outputs": [
        {
          "output_type": "stream",
          "text": [
            "/usr/local/lib/python3.6/dist-packages/pandas/core/frame.py:4308: SettingWithCopyWarning: \n",
            "A value is trying to be set on a copy of a slice from a DataFrame\n",
            "\n",
            "See the caveats in the documentation: https://pandas.pydata.org/pandas-docs/stable/user_guide/indexing.html#returning-a-view-versus-a-copy\n",
            "  errors=errors,\n"
          ],
          "name": "stderr"
        }
      ]
    },
    {
      "cell_type": "code",
      "metadata": {
        "id": "LGYO6AL_i2BF",
        "colab": {
          "base_uri": "https://localhost:8080/"
        },
        "outputId": "67ca6633-ee3c-49b0-cb68-6d014eecc540"
      },
      "source": [
        "calendar = calendar_df[['listing_id', 'date', 'available', 'price']]\n",
        "calendar['price'] = calendar['price'].apply(lambda x: str(x))\n",
        "calendar['price'] = calendar['price'].replace({'\\$': '', ',':''}, regex=True)\n",
        "calendar['price'] = calendar['price'].apply(lambda x: float(x))\n",
        "calendar.rename(columns={'date': 'calendar_date'}, inplace=True)\n",
        "reviews = reviews_df[['listing_id', 'id', 'date', 'comments']]\n",
        "reviews.rename(columns={'date': 'review_date'}, inplace=True)"
      ],
      "execution_count": null,
      "outputs": [
        {
          "output_type": "stream",
          "text": [
            "/usr/local/lib/python3.6/dist-packages/pandas/core/frame.py:4308: SettingWithCopyWarning: \n",
            "A value is trying to be set on a copy of a slice from a DataFrame\n",
            "\n",
            "See the caveats in the documentation: https://pandas.pydata.org/pandas-docs/stable/user_guide/indexing.html#returning-a-view-versus-a-copy\n",
            "  errors=errors,\n"
          ],
          "name": "stderr"
        }
      ]
    },
    {
      "cell_type": "code",
      "metadata": {
        "id": "iv5cpb97jOtF"
      },
      "source": [
        "dfs = [host, listings, locations, descriptions, url, amenity, listing_policy, listing_review, calendar, reviews]\n",
        "dfs_names = ['host', 'listings', 'location', 'descriptions', 'url', 'amenity', 'listing_policy', 'listing_review','calendar', 'reviews']\n",
        "\n",
        "for i, j in zip(dfs, dfs_names): \n",
        "  i.to_csv(j+'.csv') \n"
      ],
      "execution_count": null,
      "outputs": []
    }
  ]
}